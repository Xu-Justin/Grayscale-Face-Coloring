{
 "cells": [
  {
   "cell_type": "code",
   "execution_count": 1,
   "id": "8fd29141",
   "metadata": {},
   "outputs": [],
   "source": [
    "import logging\n",
    "logging.getLogger('tensorflow').disabled = True  # Biar ga banyak warning!\n",
    "logging.getLogger('absl').disabled = True        # Biar ga banyak warning!\n",
    "\n",
    "import config\n",
    "import os, cv2\n",
    "import time\n",
    "\n",
    "import numpy as np\n",
    "from tensorflow.keras.models import load_model"
   ]
  },
  {
   "cell_type": "markdown",
   "id": "9c9c8e0c",
   "metadata": {},
   "source": [
    "**Perhatikan batas memori yang tersedia, direkomendasikan hanya melakukan operasi < 30 gambar dalam 1 iterasi**"
   ]
  },
  {
   "cell_type": "code",
   "execution_count": 2,
   "id": "a067e6c3",
   "metadata": {},
   "outputs": [],
   "source": [
    "def predict(model_generator, images):\n",
    "    t_in = time.time()\n",
    "    \n",
    "    for i in range(len(images)):\n",
    "        images[i] = cv2.resize(images[i], (config.input_shape[1], config.input_shape[0]))\n",
    "    \n",
    "    images = np.array(images, 'float32')\n",
    "    images = (images / 127.5) - 1\n",
    "    images = model_generator(images).numpy()\n",
    "    images = (images + 1) * 127.5\n",
    "    image = np.array(images, 'uint8')\n",
    "    \n",
    "    t_out = time.time()\n",
    "    duration = t_out - t_in\n",
    "    \n",
    "    return images, duration\n",
    "\n",
    "def predict_folder(model_generator, source, target, batch_size=8):\n",
    "    print('Generating color from %s'%(source), end='\\r')\n",
    "    file_names = os.listdir(source)\n",
    "    num_batch = int( np.ceil(len(file_names)/batch_size) )\n",
    "    for i in range(num_batch):\n",
    "        images = []\n",
    "        for j in range(i*batch_size, min((i+1)*batch_size, len(file_names))):\n",
    "            image = cv2.imread( os.path.join(source, file_names[j]), 0 )\n",
    "            images.append(image)\n",
    "        images, _ = predict(model_generator, images)\n",
    "        os.makedirs(target, exist_ok=True)\n",
    "        for j in range(i*batch_size, min((i+1)*batch_size, len(file_names))):\n",
    "            cv2.imwrite( os.path.join(target, file_names[j]), images[j-i*batch_size] )   \n",
    "    print('Successfully generated color to %s'%(target))"
   ]
  },
  {
   "cell_type": "code",
   "execution_count": 3,
   "id": "80a25dbb",
   "metadata": {},
   "outputs": [],
   "source": [
    "model_name = 'v1-pix2pix'\n",
    "model_generator = load_model( os.path.join(config.dir_model_saved, model_name, 'generator') )"
   ]
  },
  {
   "cell_type": "code",
   "execution_count": 4,
   "id": "e25078aa",
   "metadata": {},
   "outputs": [
    {
     "name": "stdout",
     "output_type": "stream",
     "text": [
      "Successfully generated color to ../Dataset/test-result/\n"
     ]
    }
   ],
   "source": [
    "predict_folder(model_generator, config.dir_test, config.dir_test_result)"
   ]
  },
  {
   "cell_type": "markdown",
   "id": "73392bf4",
   "metadata": {},
   "source": [
    "#### Speed Test"
   ]
  },
  {
   "cell_type": "code",
   "execution_count": 5,
   "id": "f90fc319",
   "metadata": {},
   "outputs": [],
   "source": [
    "def speed_test(model_generator, num):\n",
    "    print('Testing for num=%d'%(num), end='\\r')\n",
    "    dummy = np.random.rand(num, config.input_shape[0], config.input_shape[1]) * 255\n",
    "    dummy = np.array(dummy, 'uint8')\n",
    "    _, duration = predict(model_generator, dummy)\n",
    "    print('Result for num=%d is %.2f seconds (%.4f seconds per image)'%(num, duration, duration/num))"
   ]
  },
  {
   "cell_type": "code",
   "execution_count": 6,
   "id": "36f42828",
   "metadata": {},
   "outputs": [
    {
     "name": "stdout",
     "output_type": "stream",
     "text": [
      "Result for num=1 is 0.65 seconds (0.6548 seconds per image)\n",
      "Result for num=10 is 1.33 seconds (0.1329 seconds per image)\n",
      "Result for num=50 is 4.06 seconds (0.0813 seconds per image)\n",
      "Result for num=100 is 7.20 seconds (0.0720 seconds per image)\n"
     ]
    }
   ],
   "source": [
    "speed_test(model_generator, 1)\n",
    "speed_test(model_generator, 10)\n",
    "speed_test(model_generator, 50)\n",
    "speed_test(model_generator, 100)"
   ]
  }
 ],
 "metadata": {
  "kernelspec": {
   "display_name": "Python 3 (ipykernel)",
   "language": "python",
   "name": "python3"
  },
  "language_info": {
   "codemirror_mode": {
    "name": "ipython",
    "version": 3
   },
   "file_extension": ".py",
   "mimetype": "text/x-python",
   "name": "python",
   "nbconvert_exporter": "python",
   "pygments_lexer": "ipython3",
   "version": "3.7.9"
  }
 },
 "nbformat": 4,
 "nbformat_minor": 5
}
